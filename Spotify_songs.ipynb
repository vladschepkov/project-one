{
 "cells": [
  {
   "cell_type": "code",
   "execution_count": 16,
   "metadata": {},
   "outputs": [],
   "source": [
    "import pandas as pd\n",
    "import matplotlib as plt\n",
    "import numpy as np\n",
    "from pandas import DataFrame\n",
    "\n",
    "#getting csv's\n",
    "song_data = pd.read_csv(\"song_data.csv\")\n",
    "song_info = pd.read_csv(\"song_info.csv\")"
   ]
  },
  {
   "cell_type": "code",
   "execution_count": 31,
   "metadata": {},
   "outputs": [
    {
     "data": {
      "text/plain": [
       "Better                                                    441\n",
       "FEFE (feat. Nicki Minaj & Murda Beatz)                    361\n",
       "MIA (feat. Drake)                                         324\n",
       "Taki Taki (with Selena Gomez, Ozuna & Cardi B)            324\n",
       "No Stylist                                                289\n",
       "Electricity (with Dua Lipa)                               256\n",
       "Mo Bamba                                                  256\n",
       "Promises (with Sam Smith)                                 256\n",
       "I Love It (& Lil Pump)                                    256\n",
       "Sunflower - Spider-Man: Into the Spider-Verse             256\n",
       "Lullaby                                                   225\n",
       "ZEZE (feat. Travis Scott & Offset)                        196\n",
       "Fall                                                      196\n",
       "Love Someone                                              196\n",
       "Wake Up in the Sky                                        196\n",
       "Be Alright                                                196\n",
       "Happier                                                   196\n",
       "SICKO MODE                                                169\n",
       "I Like It                                                 169\n",
       "STOOPID                                                   169\n",
       "Noticed                                                   169\n",
       "Without Me                                                169\n",
       "This Feeling                                              169\n",
       "Natural                                                   144\n",
       "Let You Love Me                                           144\n",
       "You Say                                                   144\n",
       "Lucky You (feat. Joyner Lucas)                            144\n",
       "Falling Down                                              144\n",
       "Tints (feat. Kendrick Lamar)                              144\n",
       "REEL IT IN                                                144\n",
       "                                                         ... \n",
       "Who Are We                                                  1\n",
       "7th Inning Stretch                                          1\n",
       "Little House Of Savages                                     1\n",
       "Show Me How                                                 1\n",
       "Intoxicated - GO! Running Mix                               1\n",
       "Labe Darya                                                  1\n",
       "I've Got A Tiger By The Tail - 2006 Remastered Version      1\n",
       "Take It From Me                                             1\n",
       "Cake By The Ocean                                           1\n",
       "Honeycomb [Single Version]                                  1\n",
       "Talking In Your Sleep                                       1\n",
       "Better Days                                                 1\n",
       "Rarri                                                       1\n",
       "Work Hard, Play Hard                                        1\n",
       "Don't Let It Get You Down                                   1\n",
       "Electricity - 2003 Digital Remaster                         1\n",
       "Two steps too often aside (Early Variation I)               1\n",
       "Headup                                                      1\n",
       "Hang Me Up To Dry                                           1\n",
       "Relax and Mambo                                             1\n",
       "Wow Freestyle (feat. Kendrick Lamar)                        1\n",
       "Don't Believe You                                           1\n",
       "Baby - Radio Edit                                           1\n",
       "Wait For Me                                                 1\n",
       "Born In The U.S.A.                                          1\n",
       "Slowing Down Magic                                          1\n",
       "Allez Allez - Original Mix                                  1\n",
       "El Amar y el Querer                                         1\n",
       "Dynamite                                                    1\n",
       "Alabam                                                      1\n",
       "Name: song_name, Length: 13070, dtype: int64"
      ]
     },
     "execution_count": 31,
     "metadata": {},
     "output_type": "execute_result"
    }
   ],
   "source": [
    "#merge data\n",
    "total_data = pd.merge(song_data, song_info, on=\"song_name\")\n",
    "total_data.head()\n",
    "total_data[\"song_name\"].value_counts()"
   ]
  },
  {
   "cell_type": "code",
   "execution_count": 30,
   "metadata": {},
   "outputs": [
    {
     "data": {
      "text/plain": [
       "Better                                                    147\n",
       "Fall                                                       98\n",
       "Lullaby                                                    90\n",
       "Heaven                                                     88\n",
       "Fire                                                       80\n",
       "Alright                                                    70\n",
       "You                                                        63\n",
       "Stay                                                       56\n",
       "Easy                                                       54\n",
       "Dreamer                                                    54\n",
       "Breathe                                                    49\n",
       "Gone                                                       49\n",
       "Beautiful                                                  48\n",
       "California                                                 48\n",
       "Home                                                       48\n",
       "The Middle                                                 44\n",
       "Treat You Better                                           42\n",
       "Thunder                                                    42\n",
       "Halo                                                       40\n",
       "Moonlight                                                  40\n",
       "Drive                                                      40\n",
       "Closer                                                     40\n",
       "Without Me                                                 39\n",
       "Your Love                                                  36\n",
       "Alive                                                      36\n",
       "Higher                                                     36\n",
       "You Can't Hurry Love                                       36\n",
       "Body                                                       36\n",
       "Move                                                       36\n",
       "Bang Bang                                                  35\n",
       "                                                         ... \n",
       "Who Are We                                                  1\n",
       "7th Inning Stretch                                          1\n",
       "Little House Of Savages                                     1\n",
       "Show Me How                                                 1\n",
       "Intoxicated - GO! Running Mix                               1\n",
       "Labe Darya                                                  1\n",
       "I've Got A Tiger By The Tail - 2006 Remastered Version      1\n",
       "C'est La Vie                                                1\n",
       "Now & Then                                                  1\n",
       "III Encounter                                               1\n",
       "Talking In Your Sleep                                       1\n",
       "Honeycomb [Single Version]                                  1\n",
       "Better Days                                                 1\n",
       "Rarri                                                       1\n",
       "Work Hard, Play Hard                                        1\n",
       "Electricity - 2003 Digital Remaster                         1\n",
       "Two steps too often aside (Early Variation I)               1\n",
       "Headup                                                      1\n",
       "Hang Me Up To Dry                                           1\n",
       "Relax and Mambo                                             1\n",
       "Cake By The Ocean                                           1\n",
       "Don't Believe You                                           1\n",
       "Baby - Radio Edit                                           1\n",
       "Wait For Me                                                 1\n",
       "Born In The U.S.A.                                          1\n",
       "Allez Allez - Original Mix                                  1\n",
       "El Amar y el Querer                                         1\n",
       "Dynamite                                                    1\n",
       "Wow Freestyle (feat. Kendrick Lamar)                        1\n",
       "Alabam                                                      1\n",
       "Name: song_name, Length: 13070, dtype: int64"
      ]
     },
     "execution_count": 30,
     "metadata": {},
     "output_type": "execute_result"
    }
   ],
   "source": [
    "#remove duplicates\n",
    "a=pd.DataFrame(total_data)\n",
    "a_clean=DataFrame.drop_duplicates(a)\n",
    "a_clean.head()\n",
    "a_clean[\"song_name\"].value_counts()"
   ]
  },
  {
   "cell_type": "code",
   "execution_count": null,
   "metadata": {},
   "outputs": [],
   "source": []
  },
  {
   "cell_type": "code",
   "execution_count": null,
   "metadata": {},
   "outputs": [],
   "source": []
  }
 ],
 "metadata": {
  "kernelspec": {
   "display_name": "Python 3",
   "language": "python",
   "name": "python3"
  },
  "language_info": {
   "codemirror_mode": {
    "name": "ipython",
    "version": 3
   },
   "file_extension": ".py",
   "mimetype": "text/x-python",
   "name": "python",
   "nbconvert_exporter": "python",
   "pygments_lexer": "ipython3",
   "version": "3.7.3"
  }
 },
 "nbformat": 4,
 "nbformat_minor": 2
}
